{
  "nbformat": 4,
  "nbformat_minor": 0,
  "metadata": {
    "colab": {
      "provenance": []
    },
    "kernelspec": {
      "name": "python3",
      "display_name": "Python 3"
    },
    "language_info": {
      "name": "python"
    }
  },
  "cells": [
    {
      "cell_type": "code",
      "execution_count": null,
      "metadata": {
        "id": "r4mZTuLU1Fj2"
      },
      "outputs": [],
      "source": [
        "import pandas as pd\n",
        "import seaborn as sns\n",
        "import matplotlib.pyplot as plt\n",
        "import numpy as np"
      ]
    },
    {
      "cell_type": "code",
      "source": [
        "#load dataset\n",
        "path='/content/Time_logs.xlsx'\n",
        "df=pd.read_excel(path)"
      ],
      "metadata": {
        "id": "rrbmBEUKCI4W"
      },
      "execution_count": null,
      "outputs": []
    },
    {
      "cell_type": "code",
      "source": [
        "df.head(10)"
      ],
      "metadata": {
        "colab": {
          "base_uri": "https://localhost:8080/",
          "height": 630
        },
        "id": "sF3WxofyP6-o",
        "outputId": "0eb858f0-a2ff-405a-a874-aa0530876791"
      },
      "execution_count": null,
      "outputs": [
        {
          "output_type": "execute_result",
          "data": {
            "text/plain": [
              "  S. ID. Start Time  End Time  Session ID   Consent Unnamed: 5  \\\n",
              "0    NaN        NaN       NaN         NaN     Start        End   \n",
              "1    S01   09:22:00  10:22:00   1445405.0  09:22:00   09:27:00   \n",
              "2    S02   09:48:00  10:51:00   1445449.0  09:48:00   09:50:00   \n",
              "3    S03   10:50:00  11:50:00   1445450.0  10:50:00   10:53:00   \n",
              "4    S04   11:25:00  12:28:00   1445452.0  11:25:00   11:30:00   \n",
              "5    S05   09:05:00  10:06:00   1449998.0  09:05:00   09:10:00   \n",
              "6    S06   09:41:00  10:40:00   1450001.0  09:41:00   09:43:00   \n",
              "7    S07   10:25:00  11:26:00   1450002.0  10:25:00   10:29:00   \n",
              "8    S08   12:08:00  01:05:00   1450061.0  12:08:00   12:10:00   \n",
              "9    S09   12:34:00  01:31:00   1450063.0  12:34:00   12:36:00   \n",
              "\n",
              "  Baseline/Questionniare Unnamed: 7 Stroop Test Unnamed: 9  ...  \\\n",
              "0                  Start        End       Start        End  ...   \n",
              "1               09:39:00   09:43:00    09:29:00   09:34:00  ...   \n",
              "2               09:52:00   10:02:00    10:03:00   10:08:00  ...   \n",
              "3               10:55:00   11:02:00    11:04:00   11:09:00  ...   \n",
              "4               11:30:00   11:40:00    11:40:00   11:45:00  ...   \n",
              "5               09:12:00   09:22:00    09:23:00   09:29:00  ...   \n",
              "6               09:44:00   09:54:00    09:55:00   10:01:00  ...   \n",
              "7               10:31:00   10:41:00    10:43:00   10:48:00  ...   \n",
              "8               12:12:00   12:22:00    12:23:00   12:28:00  ...   \n",
              "9               12:38:00   12:48:00    12:49:00   12:54:00  ...   \n",
              "\n",
              "  Hyperventilation Unnamed: 17   Relax.2 Unnamed: 19 Questionniare  \\\n",
              "0            Start         End     Start         End         Start   \n",
              "1         10:00:00    10:02:00  10:02:00    10:07:00      10:08:00   \n",
              "2         10:29:00    10:31:00  10:31:00    10:36:00      10:36:00   \n",
              "3         11:28:00    11:30:00  11:30:00    11:35:00      11:35:00   \n",
              "4         12:05:00    12:07:00  12:07:00    12:12:00      12:12:00   \n",
              "5         09:49:00    09:51:00  09:51:00    09:56:00      09:56:00   \n",
              "6         10:23:00    10:25:00  10:25:00    10:30:00      10:30:00   \n",
              "7         11:09:00    11:11:00  11:11:00    11:16:00      11:16:00   \n",
              "8         12:48:00    12:50:00  12:50:00    12:55:00      12:55:00   \n",
              "9         01:14:00    01:16:00  01:16:00    01:21:00      01:21:00   \n",
              "\n",
              "  Unnamed: 21 Relax/Baseline Unnamed: 23 Unnamed: 24       Date  \n",
              "0         End          Start         End         NaN        NaT  \n",
              "1    10:12:00       10:12:00    10:22:00       Day 1 2022-02-07  \n",
              "2    10:41:00       10:41:00    10:51:00       Day 1 2022-02-07  \n",
              "3    11:40:00       11:40:00    11:50:00       Day 1 2022-02-07  \n",
              "4    12:18:00       12:18:00    12:28:00       Day 1 2022-02-07  \n",
              "5    10:01:00       10:01:00    10:06:00       Day 2 2022-02-14  \n",
              "6    10:35:00       10:35:00    10:40:00       Day 2 2022-02-14  \n",
              "7    11:21:00       11:21:00    11:26:00       Day 2 2022-02-14  \n",
              "8    01:00:00       01:00:00    01:05:00       Day 2 2022-02-14  \n",
              "9    01:26:00       01:26:00    01:31:00       Day 2 2022-02-14  \n",
              "\n",
              "[10 rows x 26 columns]"
            ],
            "text/html": [
              "\n",
              "  <div id=\"df-a0094ea3-74ff-44d4-bdb8-a8642a3704f7\">\n",
              "    <div class=\"colab-df-container\">\n",
              "      <div>\n",
              "<style scoped>\n",
              "    .dataframe tbody tr th:only-of-type {\n",
              "        vertical-align: middle;\n",
              "    }\n",
              "\n",
              "    .dataframe tbody tr th {\n",
              "        vertical-align: top;\n",
              "    }\n",
              "\n",
              "    .dataframe thead th {\n",
              "        text-align: right;\n",
              "    }\n",
              "</style>\n",
              "<table border=\"1\" class=\"dataframe\">\n",
              "  <thead>\n",
              "    <tr style=\"text-align: right;\">\n",
              "      <th></th>\n",
              "      <th>S. ID.</th>\n",
              "      <th>Start Time</th>\n",
              "      <th>End Time</th>\n",
              "      <th>Session ID</th>\n",
              "      <th>Consent</th>\n",
              "      <th>Unnamed: 5</th>\n",
              "      <th>Baseline/Questionniare</th>\n",
              "      <th>Unnamed: 7</th>\n",
              "      <th>Stroop Test</th>\n",
              "      <th>Unnamed: 9</th>\n",
              "      <th>...</th>\n",
              "      <th>Hyperventilation</th>\n",
              "      <th>Unnamed: 17</th>\n",
              "      <th>Relax.2</th>\n",
              "      <th>Unnamed: 19</th>\n",
              "      <th>Questionniare</th>\n",
              "      <th>Unnamed: 21</th>\n",
              "      <th>Relax/Baseline</th>\n",
              "      <th>Unnamed: 23</th>\n",
              "      <th>Unnamed: 24</th>\n",
              "      <th>Date</th>\n",
              "    </tr>\n",
              "  </thead>\n",
              "  <tbody>\n",
              "    <tr>\n",
              "      <th>0</th>\n",
              "      <td>NaN</td>\n",
              "      <td>NaN</td>\n",
              "      <td>NaN</td>\n",
              "      <td>NaN</td>\n",
              "      <td>Start</td>\n",
              "      <td>End</td>\n",
              "      <td>Start</td>\n",
              "      <td>End</td>\n",
              "      <td>Start</td>\n",
              "      <td>End</td>\n",
              "      <td>...</td>\n",
              "      <td>Start</td>\n",
              "      <td>End</td>\n",
              "      <td>Start</td>\n",
              "      <td>End</td>\n",
              "      <td>Start</td>\n",
              "      <td>End</td>\n",
              "      <td>Start</td>\n",
              "      <td>End</td>\n",
              "      <td>NaN</td>\n",
              "      <td>NaT</td>\n",
              "    </tr>\n",
              "    <tr>\n",
              "      <th>1</th>\n",
              "      <td>S01</td>\n",
              "      <td>09:22:00</td>\n",
              "      <td>10:22:00</td>\n",
              "      <td>1445405.0</td>\n",
              "      <td>09:22:00</td>\n",
              "      <td>09:27:00</td>\n",
              "      <td>09:39:00</td>\n",
              "      <td>09:43:00</td>\n",
              "      <td>09:29:00</td>\n",
              "      <td>09:34:00</td>\n",
              "      <td>...</td>\n",
              "      <td>10:00:00</td>\n",
              "      <td>10:02:00</td>\n",
              "      <td>10:02:00</td>\n",
              "      <td>10:07:00</td>\n",
              "      <td>10:08:00</td>\n",
              "      <td>10:12:00</td>\n",
              "      <td>10:12:00</td>\n",
              "      <td>10:22:00</td>\n",
              "      <td>Day 1</td>\n",
              "      <td>2022-02-07</td>\n",
              "    </tr>\n",
              "    <tr>\n",
              "      <th>2</th>\n",
              "      <td>S02</td>\n",
              "      <td>09:48:00</td>\n",
              "      <td>10:51:00</td>\n",
              "      <td>1445449.0</td>\n",
              "      <td>09:48:00</td>\n",
              "      <td>09:50:00</td>\n",
              "      <td>09:52:00</td>\n",
              "      <td>10:02:00</td>\n",
              "      <td>10:03:00</td>\n",
              "      <td>10:08:00</td>\n",
              "      <td>...</td>\n",
              "      <td>10:29:00</td>\n",
              "      <td>10:31:00</td>\n",
              "      <td>10:31:00</td>\n",
              "      <td>10:36:00</td>\n",
              "      <td>10:36:00</td>\n",
              "      <td>10:41:00</td>\n",
              "      <td>10:41:00</td>\n",
              "      <td>10:51:00</td>\n",
              "      <td>Day 1</td>\n",
              "      <td>2022-02-07</td>\n",
              "    </tr>\n",
              "    <tr>\n",
              "      <th>3</th>\n",
              "      <td>S03</td>\n",
              "      <td>10:50:00</td>\n",
              "      <td>11:50:00</td>\n",
              "      <td>1445450.0</td>\n",
              "      <td>10:50:00</td>\n",
              "      <td>10:53:00</td>\n",
              "      <td>10:55:00</td>\n",
              "      <td>11:02:00</td>\n",
              "      <td>11:04:00</td>\n",
              "      <td>11:09:00</td>\n",
              "      <td>...</td>\n",
              "      <td>11:28:00</td>\n",
              "      <td>11:30:00</td>\n",
              "      <td>11:30:00</td>\n",
              "      <td>11:35:00</td>\n",
              "      <td>11:35:00</td>\n",
              "      <td>11:40:00</td>\n",
              "      <td>11:40:00</td>\n",
              "      <td>11:50:00</td>\n",
              "      <td>Day 1</td>\n",
              "      <td>2022-02-07</td>\n",
              "    </tr>\n",
              "    <tr>\n",
              "      <th>4</th>\n",
              "      <td>S04</td>\n",
              "      <td>11:25:00</td>\n",
              "      <td>12:28:00</td>\n",
              "      <td>1445452.0</td>\n",
              "      <td>11:25:00</td>\n",
              "      <td>11:30:00</td>\n",
              "      <td>11:30:00</td>\n",
              "      <td>11:40:00</td>\n",
              "      <td>11:40:00</td>\n",
              "      <td>11:45:00</td>\n",
              "      <td>...</td>\n",
              "      <td>12:05:00</td>\n",
              "      <td>12:07:00</td>\n",
              "      <td>12:07:00</td>\n",
              "      <td>12:12:00</td>\n",
              "      <td>12:12:00</td>\n",
              "      <td>12:18:00</td>\n",
              "      <td>12:18:00</td>\n",
              "      <td>12:28:00</td>\n",
              "      <td>Day 1</td>\n",
              "      <td>2022-02-07</td>\n",
              "    </tr>\n",
              "    <tr>\n",
              "      <th>5</th>\n",
              "      <td>S05</td>\n",
              "      <td>09:05:00</td>\n",
              "      <td>10:06:00</td>\n",
              "      <td>1449998.0</td>\n",
              "      <td>09:05:00</td>\n",
              "      <td>09:10:00</td>\n",
              "      <td>09:12:00</td>\n",
              "      <td>09:22:00</td>\n",
              "      <td>09:23:00</td>\n",
              "      <td>09:29:00</td>\n",
              "      <td>...</td>\n",
              "      <td>09:49:00</td>\n",
              "      <td>09:51:00</td>\n",
              "      <td>09:51:00</td>\n",
              "      <td>09:56:00</td>\n",
              "      <td>09:56:00</td>\n",
              "      <td>10:01:00</td>\n",
              "      <td>10:01:00</td>\n",
              "      <td>10:06:00</td>\n",
              "      <td>Day 2</td>\n",
              "      <td>2022-02-14</td>\n",
              "    </tr>\n",
              "    <tr>\n",
              "      <th>6</th>\n",
              "      <td>S06</td>\n",
              "      <td>09:41:00</td>\n",
              "      <td>10:40:00</td>\n",
              "      <td>1450001.0</td>\n",
              "      <td>09:41:00</td>\n",
              "      <td>09:43:00</td>\n",
              "      <td>09:44:00</td>\n",
              "      <td>09:54:00</td>\n",
              "      <td>09:55:00</td>\n",
              "      <td>10:01:00</td>\n",
              "      <td>...</td>\n",
              "      <td>10:23:00</td>\n",
              "      <td>10:25:00</td>\n",
              "      <td>10:25:00</td>\n",
              "      <td>10:30:00</td>\n",
              "      <td>10:30:00</td>\n",
              "      <td>10:35:00</td>\n",
              "      <td>10:35:00</td>\n",
              "      <td>10:40:00</td>\n",
              "      <td>Day 2</td>\n",
              "      <td>2022-02-14</td>\n",
              "    </tr>\n",
              "    <tr>\n",
              "      <th>7</th>\n",
              "      <td>S07</td>\n",
              "      <td>10:25:00</td>\n",
              "      <td>11:26:00</td>\n",
              "      <td>1450002.0</td>\n",
              "      <td>10:25:00</td>\n",
              "      <td>10:29:00</td>\n",
              "      <td>10:31:00</td>\n",
              "      <td>10:41:00</td>\n",
              "      <td>10:43:00</td>\n",
              "      <td>10:48:00</td>\n",
              "      <td>...</td>\n",
              "      <td>11:09:00</td>\n",
              "      <td>11:11:00</td>\n",
              "      <td>11:11:00</td>\n",
              "      <td>11:16:00</td>\n",
              "      <td>11:16:00</td>\n",
              "      <td>11:21:00</td>\n",
              "      <td>11:21:00</td>\n",
              "      <td>11:26:00</td>\n",
              "      <td>Day 2</td>\n",
              "      <td>2022-02-14</td>\n",
              "    </tr>\n",
              "    <tr>\n",
              "      <th>8</th>\n",
              "      <td>S08</td>\n",
              "      <td>12:08:00</td>\n",
              "      <td>01:05:00</td>\n",
              "      <td>1450061.0</td>\n",
              "      <td>12:08:00</td>\n",
              "      <td>12:10:00</td>\n",
              "      <td>12:12:00</td>\n",
              "      <td>12:22:00</td>\n",
              "      <td>12:23:00</td>\n",
              "      <td>12:28:00</td>\n",
              "      <td>...</td>\n",
              "      <td>12:48:00</td>\n",
              "      <td>12:50:00</td>\n",
              "      <td>12:50:00</td>\n",
              "      <td>12:55:00</td>\n",
              "      <td>12:55:00</td>\n",
              "      <td>01:00:00</td>\n",
              "      <td>01:00:00</td>\n",
              "      <td>01:05:00</td>\n",
              "      <td>Day 2</td>\n",
              "      <td>2022-02-14</td>\n",
              "    </tr>\n",
              "    <tr>\n",
              "      <th>9</th>\n",
              "      <td>S09</td>\n",
              "      <td>12:34:00</td>\n",
              "      <td>01:31:00</td>\n",
              "      <td>1450063.0</td>\n",
              "      <td>12:34:00</td>\n",
              "      <td>12:36:00</td>\n",
              "      <td>12:38:00</td>\n",
              "      <td>12:48:00</td>\n",
              "      <td>12:49:00</td>\n",
              "      <td>12:54:00</td>\n",
              "      <td>...</td>\n",
              "      <td>01:14:00</td>\n",
              "      <td>01:16:00</td>\n",
              "      <td>01:16:00</td>\n",
              "      <td>01:21:00</td>\n",
              "      <td>01:21:00</td>\n",
              "      <td>01:26:00</td>\n",
              "      <td>01:26:00</td>\n",
              "      <td>01:31:00</td>\n",
              "      <td>Day 2</td>\n",
              "      <td>2022-02-14</td>\n",
              "    </tr>\n",
              "  </tbody>\n",
              "</table>\n",
              "<p>10 rows × 26 columns</p>\n",
              "</div>\n",
              "      <button class=\"colab-df-convert\" onclick=\"convertToInteractive('df-a0094ea3-74ff-44d4-bdb8-a8642a3704f7')\"\n",
              "              title=\"Convert this dataframe to an interactive table.\"\n",
              "              style=\"display:none;\">\n",
              "        \n",
              "  <svg xmlns=\"http://www.w3.org/2000/svg\" height=\"24px\"viewBox=\"0 0 24 24\"\n",
              "       width=\"24px\">\n",
              "    <path d=\"M0 0h24v24H0V0z\" fill=\"none\"/>\n",
              "    <path d=\"M18.56 5.44l.94 2.06.94-2.06 2.06-.94-2.06-.94-.94-2.06-.94 2.06-2.06.94zm-11 1L8.5 8.5l.94-2.06 2.06-.94-2.06-.94L8.5 2.5l-.94 2.06-2.06.94zm10 10l.94 2.06.94-2.06 2.06-.94-2.06-.94-.94-2.06-.94 2.06-2.06.94z\"/><path d=\"M17.41 7.96l-1.37-1.37c-.4-.4-.92-.59-1.43-.59-.52 0-1.04.2-1.43.59L10.3 9.45l-7.72 7.72c-.78.78-.78 2.05 0 2.83L4 21.41c.39.39.9.59 1.41.59.51 0 1.02-.2 1.41-.59l7.78-7.78 2.81-2.81c.8-.78.8-2.07 0-2.86zM5.41 20L4 18.59l7.72-7.72 1.47 1.35L5.41 20z\"/>\n",
              "  </svg>\n",
              "      </button>\n",
              "      \n",
              "  <style>\n",
              "    .colab-df-container {\n",
              "      display:flex;\n",
              "      flex-wrap:wrap;\n",
              "      gap: 12px;\n",
              "    }\n",
              "\n",
              "    .colab-df-convert {\n",
              "      background-color: #E8F0FE;\n",
              "      border: none;\n",
              "      border-radius: 50%;\n",
              "      cursor: pointer;\n",
              "      display: none;\n",
              "      fill: #1967D2;\n",
              "      height: 32px;\n",
              "      padding: 0 0 0 0;\n",
              "      width: 32px;\n",
              "    }\n",
              "\n",
              "    .colab-df-convert:hover {\n",
              "      background-color: #E2EBFA;\n",
              "      box-shadow: 0px 1px 2px rgba(60, 64, 67, 0.3), 0px 1px 3px 1px rgba(60, 64, 67, 0.15);\n",
              "      fill: #174EA6;\n",
              "    }\n",
              "\n",
              "    [theme=dark] .colab-df-convert {\n",
              "      background-color: #3B4455;\n",
              "      fill: #D2E3FC;\n",
              "    }\n",
              "\n",
              "    [theme=dark] .colab-df-convert:hover {\n",
              "      background-color: #434B5C;\n",
              "      box-shadow: 0px 1px 3px 1px rgba(0, 0, 0, 0.15);\n",
              "      filter: drop-shadow(0px 1px 2px rgba(0, 0, 0, 0.3));\n",
              "      fill: #FFFFFF;\n",
              "    }\n",
              "  </style>\n",
              "\n",
              "      <script>\n",
              "        const buttonEl =\n",
              "          document.querySelector('#df-a0094ea3-74ff-44d4-bdb8-a8642a3704f7 button.colab-df-convert');\n",
              "        buttonEl.style.display =\n",
              "          google.colab.kernel.accessAllowed ? 'block' : 'none';\n",
              "\n",
              "        async function convertToInteractive(key) {\n",
              "          const element = document.querySelector('#df-a0094ea3-74ff-44d4-bdb8-a8642a3704f7');\n",
              "          const dataTable =\n",
              "            await google.colab.kernel.invokeFunction('convertToInteractive',\n",
              "                                                     [key], {});\n",
              "          if (!dataTable) return;\n",
              "\n",
              "          const docLinkHtml = 'Like what you see? Visit the ' +\n",
              "            '<a target=\"_blank\" href=https://colab.research.google.com/notebooks/data_table.ipynb>data table notebook</a>'\n",
              "            + ' to learn more about interactive tables.';\n",
              "          element.innerHTML = '';\n",
              "          dataTable['output_type'] = 'display_data';\n",
              "          await google.colab.output.renderOutput(dataTable, element);\n",
              "          const docLink = document.createElement('div');\n",
              "          docLink.innerHTML = docLinkHtml;\n",
              "          element.appendChild(docLink);\n",
              "        }\n",
              "      </script>\n",
              "    </div>\n",
              "  </div>\n",
              "  "
            ]
          },
          "metadata": {},
          "execution_count": 3
        }
      ]
    },
    {
      "cell_type": "code",
      "source": [
        "# check data types od data\n",
        "df.info()"
      ],
      "metadata": {
        "colab": {
          "base_uri": "https://localhost:8080/"
        },
        "id": "G8WUA45TQPFq",
        "outputId": "d7862cfe-1846-48ff-9c63-1279be351bfb"
      },
      "execution_count": null,
      "outputs": [
        {
          "output_type": "stream",
          "name": "stdout",
          "text": [
            "<class 'pandas.core.frame.DataFrame'>\n",
            "RangeIndex: 36 entries, 0 to 35\n",
            "Data columns (total 26 columns):\n",
            " #   Column                  Non-Null Count  Dtype         \n",
            "---  ------                  --------------  -----         \n",
            " 0   S. ID.                  35 non-null     object        \n",
            " 1   Start Time              35 non-null     object        \n",
            " 2   End Time                35 non-null     object        \n",
            " 3   Session ID              35 non-null     float64       \n",
            " 4   Consent                 36 non-null     object        \n",
            " 5   Unnamed: 5              36 non-null     object        \n",
            " 6   Baseline/Questionniare  36 non-null     object        \n",
            " 7   Unnamed: 7              36 non-null     object        \n",
            " 8   Stroop Test             36 non-null     object        \n",
            " 9   Unnamed: 9              36 non-null     object        \n",
            " 10  Relax                   36 non-null     object        \n",
            " 11  Unnamed: 11             36 non-null     object        \n",
            " 12  Interview               36 non-null     object        \n",
            " 13  Unnamed: 13             36 non-null     object        \n",
            " 14  Relax.1                 36 non-null     object        \n",
            " 15  Unnamed: 15             36 non-null     object        \n",
            " 16  Hyperventilation        36 non-null     object        \n",
            " 17  Unnamed: 17             36 non-null     object        \n",
            " 18  Relax.2                 36 non-null     object        \n",
            " 19  Unnamed: 19             36 non-null     object        \n",
            " 20  Questionniare           36 non-null     object        \n",
            " 21  Unnamed: 21             36 non-null     object        \n",
            " 22  Relax/Baseline          36 non-null     object        \n",
            " 23  Unnamed: 23             36 non-null     object        \n",
            " 24  Unnamed: 24             35 non-null     object        \n",
            " 25  Date                    35 non-null     datetime64[ns]\n",
            "dtypes: datetime64[ns](1), float64(1), object(24)\n",
            "memory usage: 7.4+ KB\n"
          ]
        }
      ]
    },
    {
      "cell_type": "code",
      "source": [
        "# check null values in every column\n",
        "df.isnull().sum()"
      ],
      "metadata": {
        "colab": {
          "base_uri": "https://localhost:8080/"
        },
        "id": "tmLS5nxTQSf4",
        "outputId": "c240c148-9f0f-4dc6-a3cf-93c64827e2c3"
      },
      "execution_count": null,
      "outputs": [
        {
          "output_type": "execute_result",
          "data": {
            "text/plain": [
              "S. ID.                    1\n",
              "Start Time                1\n",
              "End Time                  1\n",
              "Session ID                1\n",
              "Consent                   0\n",
              "Unnamed: 5                0\n",
              "Baseline/Questionniare    0\n",
              "Unnamed: 7                0\n",
              "Stroop Test               0\n",
              "Unnamed: 9                0\n",
              "Relax                     0\n",
              "Unnamed: 11               0\n",
              "Interview                 0\n",
              "Unnamed: 13               0\n",
              "Relax.1                   0\n",
              "Unnamed: 15               0\n",
              "Hyperventilation          0\n",
              "Unnamed: 17               0\n",
              "Relax.2                   0\n",
              "Unnamed: 19               0\n",
              "Questionniare             0\n",
              "Unnamed: 21               0\n",
              "Relax/Baseline            0\n",
              "Unnamed: 23               0\n",
              "Unnamed: 24               1\n",
              "Date                      1\n",
              "dtype: int64"
            ]
          },
          "metadata": {},
          "execution_count": 5
        }
      ]
    },
    {
      "cell_type": "code",
      "source": [
        "# drop null values from data\n",
        "df = df.dropna()\n"
      ],
      "metadata": {
        "id": "-s18Uy7TQXQJ"
      },
      "execution_count": null,
      "outputs": []
    },
    {
      "cell_type": "code",
      "source": [
        "# now there is no nan values\n",
        "df.isnull().sum()"
      ],
      "metadata": {
        "colab": {
          "base_uri": "https://localhost:8080/"
        },
        "id": "PUHlJseIQbdZ",
        "outputId": "2c652541-d69b-4b1a-90c8-77b73ff33037"
      },
      "execution_count": null,
      "outputs": [
        {
          "output_type": "execute_result",
          "data": {
            "text/plain": [
              "S. ID.                    0\n",
              "Start Time                0\n",
              "End Time                  0\n",
              "Session ID                0\n",
              "Consent                   0\n",
              "Unnamed: 5                0\n",
              "Baseline/Questionniare    0\n",
              "Unnamed: 7                0\n",
              "Stroop Test               0\n",
              "Unnamed: 9                0\n",
              "Relax                     0\n",
              "Unnamed: 11               0\n",
              "Interview                 0\n",
              "Unnamed: 13               0\n",
              "Relax.1                   0\n",
              "Unnamed: 15               0\n",
              "Hyperventilation          0\n",
              "Unnamed: 17               0\n",
              "Relax.2                   0\n",
              "Unnamed: 19               0\n",
              "Questionniare             0\n",
              "Unnamed: 21               0\n",
              "Relax/Baseline            0\n",
              "Unnamed: 23               0\n",
              "Unnamed: 24               0\n",
              "Date                      0\n",
              "dtype: int64"
            ]
          },
          "metadata": {},
          "execution_count": 7
        }
      ]
    },
    {
      "cell_type": "code",
      "source": [
        "#check duplicates values and fortunately there is no duplicates values\n",
        "df.duplicated().sum()"
      ],
      "metadata": {
        "colab": {
          "base_uri": "https://localhost:8080/"
        },
        "id": "Tl41BIcRQd79",
        "outputId": "58e7d0f5-1767-4019-9c54-854aa2c2221d"
      },
      "execution_count": null,
      "outputs": [
        {
          "output_type": "execute_result",
          "data": {
            "text/plain": [
              "0"
            ]
          },
          "metadata": {},
          "execution_count": 8
        }
      ]
    },
    {
      "cell_type": "code",
      "source": [
        "df.corr()"
      ],
      "metadata": {
        "colab": {
          "base_uri": "https://localhost:8080/",
          "height": 135
        },
        "id": "kyyTw1mwQiqO",
        "outputId": "c2d2ff5e-7e08-4ab8-a325-45300cb8d5f2"
      },
      "execution_count": null,
      "outputs": [
        {
          "output_type": "stream",
          "name": "stderr",
          "text": [
            "<ipython-input-9-2f6f6606aa2c>:1: FutureWarning: The default value of numeric_only in DataFrame.corr is deprecated. In a future version, it will default to False. Select only valid columns or specify the value of numeric_only to silence this warning.\n",
            "  df.corr()\n"
          ]
        },
        {
          "output_type": "execute_result",
          "data": {
            "text/plain": [
              "            Session ID\n",
              "Session ID         1.0"
            ],
            "text/html": [
              "\n",
              "  <div id=\"df-f4c62537-3417-475a-8723-1ad5d4b6dc8f\">\n",
              "    <div class=\"colab-df-container\">\n",
              "      <div>\n",
              "<style scoped>\n",
              "    .dataframe tbody tr th:only-of-type {\n",
              "        vertical-align: middle;\n",
              "    }\n",
              "\n",
              "    .dataframe tbody tr th {\n",
              "        vertical-align: top;\n",
              "    }\n",
              "\n",
              "    .dataframe thead th {\n",
              "        text-align: right;\n",
              "    }\n",
              "</style>\n",
              "<table border=\"1\" class=\"dataframe\">\n",
              "  <thead>\n",
              "    <tr style=\"text-align: right;\">\n",
              "      <th></th>\n",
              "      <th>Session ID</th>\n",
              "    </tr>\n",
              "  </thead>\n",
              "  <tbody>\n",
              "    <tr>\n",
              "      <th>Session ID</th>\n",
              "      <td>1.0</td>\n",
              "    </tr>\n",
              "  </tbody>\n",
              "</table>\n",
              "</div>\n",
              "      <button class=\"colab-df-convert\" onclick=\"convertToInteractive('df-f4c62537-3417-475a-8723-1ad5d4b6dc8f')\"\n",
              "              title=\"Convert this dataframe to an interactive table.\"\n",
              "              style=\"display:none;\">\n",
              "        \n",
              "  <svg xmlns=\"http://www.w3.org/2000/svg\" height=\"24px\"viewBox=\"0 0 24 24\"\n",
              "       width=\"24px\">\n",
              "    <path d=\"M0 0h24v24H0V0z\" fill=\"none\"/>\n",
              "    <path d=\"M18.56 5.44l.94 2.06.94-2.06 2.06-.94-2.06-.94-.94-2.06-.94 2.06-2.06.94zm-11 1L8.5 8.5l.94-2.06 2.06-.94-2.06-.94L8.5 2.5l-.94 2.06-2.06.94zm10 10l.94 2.06.94-2.06 2.06-.94-2.06-.94-.94-2.06-.94 2.06-2.06.94z\"/><path d=\"M17.41 7.96l-1.37-1.37c-.4-.4-.92-.59-1.43-.59-.52 0-1.04.2-1.43.59L10.3 9.45l-7.72 7.72c-.78.78-.78 2.05 0 2.83L4 21.41c.39.39.9.59 1.41.59.51 0 1.02-.2 1.41-.59l7.78-7.78 2.81-2.81c.8-.78.8-2.07 0-2.86zM5.41 20L4 18.59l7.72-7.72 1.47 1.35L5.41 20z\"/>\n",
              "  </svg>\n",
              "      </button>\n",
              "      \n",
              "  <style>\n",
              "    .colab-df-container {\n",
              "      display:flex;\n",
              "      flex-wrap:wrap;\n",
              "      gap: 12px;\n",
              "    }\n",
              "\n",
              "    .colab-df-convert {\n",
              "      background-color: #E8F0FE;\n",
              "      border: none;\n",
              "      border-radius: 50%;\n",
              "      cursor: pointer;\n",
              "      display: none;\n",
              "      fill: #1967D2;\n",
              "      height: 32px;\n",
              "      padding: 0 0 0 0;\n",
              "      width: 32px;\n",
              "    }\n",
              "\n",
              "    .colab-df-convert:hover {\n",
              "      background-color: #E2EBFA;\n",
              "      box-shadow: 0px 1px 2px rgba(60, 64, 67, 0.3), 0px 1px 3px 1px rgba(60, 64, 67, 0.15);\n",
              "      fill: #174EA6;\n",
              "    }\n",
              "\n",
              "    [theme=dark] .colab-df-convert {\n",
              "      background-color: #3B4455;\n",
              "      fill: #D2E3FC;\n",
              "    }\n",
              "\n",
              "    [theme=dark] .colab-df-convert:hover {\n",
              "      background-color: #434B5C;\n",
              "      box-shadow: 0px 1px 3px 1px rgba(0, 0, 0, 0.15);\n",
              "      filter: drop-shadow(0px 1px 2px rgba(0, 0, 0, 0.3));\n",
              "      fill: #FFFFFF;\n",
              "    }\n",
              "  </style>\n",
              "\n",
              "      <script>\n",
              "        const buttonEl =\n",
              "          document.querySelector('#df-f4c62537-3417-475a-8723-1ad5d4b6dc8f button.colab-df-convert');\n",
              "        buttonEl.style.display =\n",
              "          google.colab.kernel.accessAllowed ? 'block' : 'none';\n",
              "\n",
              "        async function convertToInteractive(key) {\n",
              "          const element = document.querySelector('#df-f4c62537-3417-475a-8723-1ad5d4b6dc8f');\n",
              "          const dataTable =\n",
              "            await google.colab.kernel.invokeFunction('convertToInteractive',\n",
              "                                                     [key], {});\n",
              "          if (!dataTable) return;\n",
              "\n",
              "          const docLinkHtml = 'Like what you see? Visit the ' +\n",
              "            '<a target=\"_blank\" href=https://colab.research.google.com/notebooks/data_table.ipynb>data table notebook</a>'\n",
              "            + ' to learn more about interactive tables.';\n",
              "          element.innerHTML = '';\n",
              "          dataTable['output_type'] = 'display_data';\n",
              "          await google.colab.output.renderOutput(dataTable, element);\n",
              "          const docLink = document.createElement('div');\n",
              "          docLink.innerHTML = docLinkHtml;\n",
              "          element.appendChild(docLink);\n",
              "        }\n",
              "      </script>\n",
              "    </div>\n",
              "  </div>\n",
              "  "
            ]
          },
          "metadata": {},
          "execution_count": 9
        }
      ]
    },
    {
      "cell_type": "code",
      "source": [
        "sns.kdeplot(data=df,x='Date')"
      ],
      "metadata": {
        "colab": {
          "base_uri": "https://localhost:8080/",
          "height": 466
        },
        "id": "qVquPBpBoLWm",
        "outputId": "1cb2df42-a168-4f7b-e3e6-fb06a458c339"
      },
      "execution_count": null,
      "outputs": [
        {
          "output_type": "execute_result",
          "data": {
            "text/plain": [
              "<Axes: xlabel='Date', ylabel='Density'>"
            ]
          },
          "metadata": {},
          "execution_count": 13
        },
        {
          "output_type": "display_data",
          "data": {
            "text/plain": [
              "<Figure size 640x480 with 1 Axes>"
            ],
            "image/png": "[encoded data removed]"
          },
          "metadata": {}
        }
      ]
    },
    {
      "cell_type": "code",
      "source": [
        "sns.kdeplot(data=df,x='Session ID')"
      ],
      "metadata": {
        "colab": {
          "base_uri": "https://localhost:8080/",
          "height": 482
        },
        "id": "2BEWhPYmo6sZ",
        "outputId": "6d221980-b721-4aab-89a8-94707a8a9f54"
      },
      "execution_count": null,
      "outputs": [
        {
          "output_type": "execute_result",
          "data": {
            "text/plain": [
              "<Axes: xlabel='Session ID', ylabel='Density'>"
            ]
          },
          "metadata": {},
          "execution_count": 14
        },
        {
          "output_type": "display_data",
          "data": {
            "text/plain": [
              "<Figure size 640x480 with 1 Axes>"
            ],
            "image/png": "[encoded data removed]"
          },
          "metadata": {}
        }
      ]
    },
    {
      "cell_type": "code",
      "source": [
        "#split the data in X and y variables\n",
        "X=df.iloc[:,0:24]\n",
        "y=df.iloc[:,25]"
      ],
      "metadata": {
        "id": "qV0-12oZQlAv"
      },
      "execution_count": null,
      "outputs": []
    },
    {
      "cell_type": "markdown",
      "source": [
        "### Train_test_split"
      ],
      "metadata": {
        "id": "nCHOKC8gQthS"
      }
    },
    {
      "cell_type": "code",
      "source": [
        "from sklearn.model_selection import train_test_split\n",
        "X_train,X_test,y_train,y_test = train_test_split(X,y,test_size=0.2,random_state=1)"
      ],
      "metadata": {
        "id": "y1HtK8YeQqmE"
      },
      "execution_count": null,
      "outputs": []
    },
    {
      "cell_type": "markdown",
      "source": [
        "## cross validation"
      ],
      "metadata": {
        "id": "4jYoGif_Q66T"
      }
    },
    {
      "cell_type": "code",
      "source": [
        "from sklearn.model_selection import cross_val_score\n",
        "\n",
        "# Apply 5-fold cross-validation and calculate the mean score\n",
        "scores = cross_val_score(X, y, cv=4)\n",
        "scores\n"
      ],
      "metadata": {
        "colab": {
          "base_uri": "https://localhost:8080/",
          "height": 1000
        },
        "id": "F-y9dI3FQ2_s",
        "outputId": "8afa6d48-4cb4-42cf-f219-916bc602cb3e"
      },
      "execution_count": null,
      "outputs": [
        {
          "output_type": "error",
          "ename": "TypeError",
          "evalue": "ignored",
          "traceback": [
            "\u001b[0;31m---------------------------------------------------------------------------\u001b[0m",
            "\u001b[0;31mTypeError\u001b[0m                                 Traceback (most recent call last)",
            "\u001b[0;32m<ipython-input-12-258b621bcdea>\u001b[0m in \u001b[0;36m<cell line: 4>\u001b[0;34m()\u001b[0m\n\u001b[1;32m      2\u001b[0m \u001b[0;34m\u001b[0m\u001b[0m\n\u001b[1;32m      3\u001b[0m \u001b[0;31m# Apply 5-fold cross-validation and calculate the mean score\u001b[0m\u001b[0;34m\u001b[0m\u001b[0;34m\u001b[0m\u001b[0m\n\u001b[0;32m----> 4\u001b[0;31m \u001b[0mscores\u001b[0m \u001b[0;34m=\u001b[0m \u001b[0mcross_val_score\u001b[0m\u001b[0;34m(\u001b[0m\u001b[0mX\u001b[0m\u001b[0;34m,\u001b[0m \u001b[0my\u001b[0m\u001b[0;34m,\u001b[0m \u001b[0mcv\u001b[0m\u001b[0;34m=\u001b[0m\u001b[0;36m4\u001b[0m\u001b[0;34m)\u001b[0m\u001b[0;34m\u001b[0m\u001b[0;34m\u001b[0m\u001b[0m\n\u001b[0m\u001b[1;32m      5\u001b[0m \u001b[0mscores\u001b[0m\u001b[0;34m\u001b[0m\u001b[0;34m\u001b[0m\u001b[0m\n",
            "\u001b[0;32m/usr/local/lib/python3.9/dist-packages/sklearn/model_selection/_validation.py\u001b[0m in \u001b[0;36mcross_val_score\u001b[0;34m(estimator, X, y, groups, scoring, cv, n_jobs, verbose, fit_params, pre_dispatch, error_score)\u001b[0m\n\u001b[1;32m    511\u001b[0m     \"\"\"\n\u001b[1;32m    512\u001b[0m     \u001b[0;31m# To ensure multimetric format is not supported\u001b[0m\u001b[0;34m\u001b[0m\u001b[0;34m\u001b[0m\u001b[0m\n\u001b[0;32m--> 513\u001b[0;31m     \u001b[0mscorer\u001b[0m \u001b[0;34m=\u001b[0m \u001b[0mcheck_scoring\u001b[0m\u001b[0;34m(\u001b[0m\u001b[0mestimator\u001b[0m\u001b[0;34m,\u001b[0m \u001b[0mscoring\u001b[0m\u001b[0;34m=\u001b[0m\u001b[0mscoring\u001b[0m\u001b[0;34m)\u001b[0m\u001b[0;34m\u001b[0m\u001b[0;34m\u001b[0m\u001b[0m\n\u001b[0m\u001b[1;32m    514\u001b[0m \u001b[0;34m\u001b[0m\u001b[0m\n\u001b[1;32m    515\u001b[0m     cv_results = cross_validate(\n",
            "\u001b[0;32m/usr/local/lib/python3.9/dist-packages/sklearn/metrics/_scorer.py\u001b[0m in \u001b[0;36mcheck_scoring\u001b[0;34m(estimator, scoring, allow_none)\u001b[0m\n\u001b[1;32m    472\u001b[0m     \"\"\"\n\u001b[1;32m    473\u001b[0m     \u001b[0;32mif\u001b[0m \u001b[0;32mnot\u001b[0m \u001b[0mhasattr\u001b[0m\u001b[0;34m(\u001b[0m\u001b[0mestimator\u001b[0m\u001b[0;34m,\u001b[0m \u001b[0;34m\"fit\"\u001b[0m\u001b[0;34m)\u001b[0m\u001b[0;34m:\u001b[0m\u001b[0;34m\u001b[0m\u001b[0;34m\u001b[0m\u001b[0m\n\u001b[0;32m--> 474\u001b[0;31m         raise TypeError(\n\u001b[0m\u001b[1;32m    475\u001b[0m             \u001b[0;34m\"estimator should be an estimator implementing 'fit' method, %r was passed\"\u001b[0m\u001b[0;34m\u001b[0m\u001b[0;34m\u001b[0m\u001b[0m\n\u001b[1;32m    476\u001b[0m             \u001b[0;34m%\u001b[0m \u001b[0mestimator\u001b[0m\u001b[0;34m\u001b[0m\u001b[0;34m\u001b[0m\u001b[0m\n",
            "\u001b[0;31mTypeError\u001b[0m: estimator should be an estimator implementing 'fit' method,    S. ID. Start Time  End Time  Session ID   Consent Unnamed: 5  \\\n1     S01   09:22:00  10:22:00   1445405.0  09:22:00   09:27:00   \n2     S02   09:48:00  10:51:00   1445449.0  09:48:00   09:50:00   \n3     S03   10:50:00  11:50:00   1445450.0  10:50:00   10:53:00   \n4     S04   11:25:00  12:28:00   1445452.0  11:25:00   11:30:00   \n5     S05   09:05:00  10:06:00   1449998.0  09:05:00   09:10:00   \n6     S06   09:41:00  10:40:00   1450001.0  09:41:00   09:43:00   \n7     S07   10:25:00  11:26:00   1450002.0  10:25:00   10:29:00   \n8     S08   12:08:00  01:05:00   1450061.0  12:08:00   12:10:00   \n9     S09   12:34:00  01:31:00   1450063.0  12:34:00   12:36:00   \n10    S10   01:11:00  02:05:00   1450065.0  01:11:00   01:13:00   \n11    S11   03:15:00  04:15:00   1450169.0  03:15:00   03:19:00   \n12    S12   09:09:00  10:10:00   1454360.0  09:09:00   09:14:00   \n13    S13   11:20:00  12:20:00   1454571.0  11:20:00   11:25:00   \n14    S14   11:41:00  12:46:00    145474.0  11:41:00   11:46:00   \n15    S15   12:31:00  01:34:00   1454575.0  12:31:00   12:36:00   \n16    S16   01:05:00  02:10:00   1454577.0  01:05:00   01:10:00   \n17    S17   03:09:00  03:11:00   1454658.0  03:09:00   03:11:00   \n18    S18   03:30:00  04:31:00   1454661.0  03:30:00   03:35:00   \n19    S19   09:15:00  10:12:00   1458977.0  09:15:00   09:18:00   \n20    S20   09:46:00  10:44:00   1458978.0  09:46:00   09:49:00   \n21    S21   11:40:00  12:34:00   1459084.0  11:40:00   11:43:00   \n22    S22   12:16:00  01:10:00   1459085.0  12:16:00   12:18:00   \n23    S23   12:41:00  01:36:00   1459086.0  12:41:00   12:45:00   \n24    S24   02:36:00  03:35:00   1459225.0  02:36:00   02:38:00   \n25    S25   03:09:00  04:06:00   1459232.0  03:09:00   03:12:00   \n26    S26   03:37:00  04:35:00   1459230.0  03:37:00   03:40:00   \n27    S27   09:40:00  10:42:00   1463807.0  09:40:00   09:45:00   \n28    S28   12:13:00  01:10:00   1463925.0  12:13:00   12:17:00   \n29    S29   12:34:00  01:33:00   1463927.0  12:34:00   12:39:00   \n30    S30   12:53:00  01:54:00   1463929.0  12:53:00   12:58:00   \n31    S31   03:05:00  04:04:00   1464046.0  03:05:00   03:10:00   \n32    S32   03:34:00  04:30:00   1464048.0  03:34:00   03:37:00   \n33    S33   12:11:00  01:08:00   1465906.0  12:11:00   12:14:00   \n34    S34   02:30:00  03:35:00   1466048.0  02:30:00   02:35:00   \n35    S35   03:07:00  04:11:00   1466055.0  03:07:00   03:12:00   \n\n   Baseline/Questionniare Unnamed: 7 Stroop Test Unnamed: 9  ...   Relax.1  \\\n1                09:39:00   09:43:00    09:29:00   09:34:00  ...  09:54:00   \n2                09:52:00   10:02:00    10:03:00   10:08:00  ...  10:24:00   \n3                10:55:00   11:02:00    11:04:00   11:09:00  ...  11:23:00   \n4                11:30:00   11:40:00    11:40:00   11:45:00  ...  12:00:00   \n5                09:12:00   09:22:00    09:23:00   09:29:00  ...  09:44:00   \n6                09:44:00   09:54:00    09:55:00   10:01:00  ...  10:18:00   \n7                10:31:00   10:41:00    10:43:00   10:48:00  ...  11:03:00   \n8                12:12:00   12:22:00    12:23:00   12:28:00  ...  12:43:00   \n9                12:38:00   12:48:00    12:49:00   12:54:00  ...  01:09:00   \n10               01:14:00   01:23:00    01:23:00   01:28:00  ...  01:43:00   \n11               03:21:00   03:31:00    03:32:00   03:38:00  ...  03:53:00   \n12               09:15:00   09:25:00    09:26:00   09:31:00  ...  09:48:00   \n13               11:25:00   11:35:00    11:35:00   11:42:00  ...  11:58:00   \n14               11:47:00   11:57:00    12:01:00   12:06:00  ...  12:22:00   \n15               12:37:00   12:47:00    12:49:00   12:55:00  ...  01:12:00   \n16               01:13:00   01:23:00    01:26:00   01:31:00  ...  01:46:00   \n17               03:13:00   03:23:00    03:24:00   03:30:00  ...  03:46:00   \n18               03:35:00   03:45:00    03:46:00   03:51:00  ...  04:08:00   \n19               09:19:00   09:29:00    09:30:00   09:35:00  ...  09:50:00   \n20               09:50:00   10:00:00    10:01:00   10:07:00  ...  10:23:00   \n21               11:45:00   11:55:00    11:55:00   12:01:00  ...  12:17:00   \n22               12:20:00   12:28:00    12:29:00   12:35:00  ...  12:50:00   \n23               12:45:00   12:55:00    12:55:00   01:01:00  ...  01:16:00   \n24               02:40:00   02:50:00    02:51:00   02:57:00  ...  03:14:00   \n25               03:13:00   03:23:00    03:23:00   03:29:00  ...  03:44:00   \n26               03:42:00   03:52:00    03:52:00   03:57:00  ...  04:12:00   \n27               09:47:00   09:57:00    09:58:00   10:04:00  ...  10:19:00   \n28               12:17:00   12:27:00    12:27:00   12:33:00  ...  12:48:00   \n29               12:40:00   12:50:00    12:50:00   12:56:00  ...  01:11:00   \n30               01:00:00   01:10:00    01:11:00   01:17:00  ...  01:32:00   \n31               03:10:00   03:20:00    03:21:00   03:26:00  ...  03:42:00   \n32               03:37:00   03:47:00    03:47:00   03:53:00  ...  04:08:00   \n33               12:15:00   12:25:00    12:24:00   12:30:00  ...  12:45:00   \n34               02:38:00   02:50:00    02:51:00   02:57:00  ...  03:13:00   \n35               03:12:00   03:22:00    03:23:00   03:29:00  ...  03:44:00   \n\n   Unnamed: 15 Hyperventilation Unnamed: 17   Relax.2 Unnamed: 19  \\\n1     09:59:00         10:00:00    10:02:00  10:02:00    10:07:00   \n2     10:29:00         10:29:00    10:31:00  10:31:00    10:36:00   \n3     11:28:00         11:28:00    11:30:00  11:30:00    11:35:00   \n4     12:05:00         12:05:00    12:07:00  12:07:00    12:12:00   \n5     09:49:00         09:49:00    09:51:00  09:51:00    09:56:00   \n6     10:23:00         10:23:00    10:25:00  10:25:00    10:30:00   \n7     11:08:00         11:09:00    11:11:00  11:11:00    11:16:00   \n8     12:48:00         12:48:00    12:50:00  12:50:00    12:55:00   \n9     01:14:00         01:14:00    01:16:00  01:16:00    01:21:00   \n10    01:48:00         01:49:00    01:51:00  01:51:00    01:56:00   \n11    03:58:00         03:58:00    04:00:00  04:01:00    04:06:00   \n12    09:53:00         09:53:00    09:55:00  09:55:00    10:00:00   \n13    12:03:00         12:03:00    12:05:00  12:05:00    12:10:00   \n14    12:28:00         12:28:00    12:30:00  12:31:00    12:36:00   \n15    01:17:00         01:17:00    01:19:00  01:19:00    01:24:00   \n16    01:51:00         01:52:00    01:54:00  01:54:00    02:00:00   \n17    03:51:00         03:51:00    03:53:00  03:53:00    03:58:00   \n18    04:14:00         04:14:00    04:16:00  04:16:00    04:21:00   \n19    09:55:00         09:55:00    09:57:00  09:57:00    10:02:00   \n20    10:27:00         10:27:00    10:29:00  10:29:00    10:34:00   \n21    12:22:00         12:22:00    12:24:00  12:24:00    12:29:00   \n22    12:55:00         12:55:00    12:57:00  12:57:00    01:02:00   \n23    01:21:00         01:21:00    01:23:00  01:23:00    01:28:00   \n24    03:18:00         03:18:00    03:20:00  03:20:00    03:25:00   \n25    03:49:00         03:49:00    03:51:00  03:51:00    03:56:00   \n26    04:18:00         04:18:00    04:20:00  04:20:00    04:25:00   \n27    10:24:00         10:25:00    10:27:00  10:27:00    10:32:00   \n28    12:53:00         12:53:00    12:55:00  12:55:00    01:00:00   \n29    01:16:00         01:16:00    01:18:00  01:18:00    01:23:00   \n30    01:37:00         01:37:00    01:39:00  01:39:00    01:44:00   \n31    03:47:00         03:47:00    03:49:00  03:49:00    03:54:00   \n32    04:13:00         04:13:00    04:15:00  04:15:00    04:20:00   \n33    12:50:00         12:51:00    12:53:00  12:53:00    12:58:00   \n34    03:18:00         03:18:00    03:20:00  03:20:00    03:25:00   \n35    03:49:00         03:49:00    03:51:00  03:52:00    03:57:00   \n\n   Questionniare Unnamed: 21 Relax/Baseline Unnamed: 23  \n1       10:08:00    10:12:00       10:12:00    10:22:00  \n2       10:36:00    10:41:00       10:41:00    10:51:00  \n3       11:35:00    11:40:00       11:40:00    11:50:00  \n4       12:12:00    12:18:00       12:18:00    12:28:00  \n5       09:56:00    10:01:00       10:01:00    10:06:00  \n6       10:30:00    10:35:00       10:35:00    10:40:00  \n7       11:16:00    11:21:00       11:21:00    11:26:00  \n8       12:55:00    01:00:00       01:00:00    01:05:00  \n9       01:21:00    01:26:00       01:26:00    01:31:00  \n10      01:56:00    01:59:00       01:59:00    02:05:00  \n11      04:06:00    04:10:00       04:10:00    04:15:00  \n12      10:00:00    10:05:00       10:05:00    10:10:00  \n13      12:10:00    12:14:00       12:14:00    12:20:00  \n14      12:36:00    12:42:00       12:42:00    12:46:00  \n15      01:24:00    01:29:00       01:29:00    01:34:00  \n16      02:00:00    02:06:00       02:06:00    02:10:00  \n17      03:58:00    04:03:00       04:03:00    04:08:00  \n18      04:21:00    04:26:00       04:26:00    04:31:00  \n19      10:02:00    10:07:00       10:07:00    10:12:00  \n20      10:34:00    10:39:00       10:39:00    10:44:00  \n21      12:29:00    12:34:00       12:34:00    12:38:00  \n22      01:02:00    01:06:00       01:06:00    01:10:00  \n23      01:28:00    01:31:00       01:31:00    01:36:00  \n24      03:25:00    03:30:00       03:30:00    03:35:00  \n25      03:56:00    04:02:00       04:02:00    04:06:00  \n26      04:25:00    04:28:00       04:28:00    04:35:00  \n27      10:32:00    10:37:00       10:37:00    10:42:00  \n28      01:00:00    01:08:00       01:08:00    01:10:00  \n29      01:23:00    01:29:00       01:29:00    01:33:00  \n30      01:44:00    01:50:00       01:50:00    01:54:00  \n31      03:54:00    03:57:00       03:57:00    04:04:00  \n32      04:20:00    04:24:00       04:24:00    04:30:00  \n33      12:58:00    01:05:00       01:05:00    01:08:00  \n34      03:25:00    03:30:00       03:30:00    03:35:00  \n35      03:57:00    04:01:00       04:01:00    04:07:00  \n\n[35 rows x 24 columns] was passed"
          ]
        }
      ]
    },
    {
      "cell_type": "code",
      "source": [
        "import pandas as pd\n",
        "from sklearn.tree import DecisionTreeClassifier\n",
        "from sklearn.model_selection import train_test_split\n",
        "from sklearn.metrics import accuracy_score"
      ],
      "metadata": {
        "id": "Cuu6r3prRDNT"
      },
      "execution_count": null,
      "outputs": []
    },
    {
      "cell_type": "code",
      "source": [
        "X_train, X_test, y_train, y_test = train_test_split(X, y, test_size=0.3, random_state=42)\n"
      ],
      "metadata": {
        "id": "ysn4a2rURfXQ"
      },
      "execution_count": null,
      "outputs": []
    },
    {
      "cell_type": "code",
      "source": [
        "# create an instance of DecisionTreeClassifier\n",
        "dt = DecisionTreeClassifier()\n"
      ],
      "metadata": {
        "id": "O1TxCM7gRm3N"
      },
      "execution_count": null,
      "outputs": []
    },
    {
      "cell_type": "code",
      "source": [
        "# fit the model on the training data\n",
        "dt.fit(X_train, y_train)\n"
      ],
      "metadata": {
        "id": "Ao4KbWLeRqwo"
      },
      "execution_count": null,
      "outputs": []
    },
    {
      "cell_type": "code",
      "source": [
        "# predict the target variable for testing data\n",
        "y_pred = dt.predict(X_test)"
      ],
      "metadata": {
        "id": "gzV9TCmgRvlh"
      },
      "execution_count": null,
      "outputs": []
    },
    {
      "cell_type": "code",
      "source": [
        "# calculate the accuracy score of the model\n",
        "accuracy = accuracy_score(y_test, y_pred)\n",
        "print('Accuracy:', accuracy)"
      ],
      "metadata": {
        "id": "MNH1QftkSaPz"
      },
      "execution_count": null,
      "outputs": []
    },
    {
      "cell_type": "code",
      "source": [],
      "metadata": {
        "id": "O4fLKg6FSdcx"
      },
      "execution_count": null,
      "outputs": []
    }
  ]
}